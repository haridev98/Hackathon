{
  "cells": [
    {
      "cell_type": "code",
      "execution_count": 9,
      "id": "2511740d-3c02-4579-ad51-684aaef5fbbe",
      "metadata": {
        "id": "2511740d-3c02-4579-ad51-684aaef5fbbe"
      },
      "outputs": [],
      "source": [
        "import pandas as pd\n",
        "from sklearn.model_selection import train_test_split\n",
        "import joblib"
      ]
    },
    {
      "cell_type": "code",
      "execution_count": 4,
      "id": "1e0866e2-a7df-4a86-b86d-a2ecc4e9baec",
      "metadata": {
        "id": "1e0866e2-a7df-4a86-b86d-a2ecc4e9baec"
      },
      "outputs": [],
      "source": [
        "df_raw  = pd.read_csv(\"Dev_data_to_be_shared.csv\")"
      ]
    },
    {
      "cell_type": "code",
      "execution_count": 6,
      "id": "815a6337-c3f2-489e-b983-f1a0b20857f2",
      "metadata": {
        "id": "815a6337-c3f2-489e-b983-f1a0b20857f2"
      },
      "outputs": [],
      "source": [
        "df, test =train_test_split(df_raw, test_size=0.2, random_state=42)"
      ]
    },
    {
      "cell_type": "code",
      "execution_count": 3,
      "id": "8ae74751-a4e6-45b3-91ba-d61343b5eb3b",
      "metadata": {
        "id": "8ae74751-a4e6-45b3-91ba-d61343b5eb3b"
      },
      "outputs": [
        {
          "ename": "NameError",
          "evalue": "name 'df' is not defined",
          "output_type": "error",
          "traceback": [
            "\u001b[0;31m---------------------------------------------------------------------------\u001b[0m",
            "\u001b[0;31mNameError\u001b[0m                                 Traceback (most recent call last)",
            "Cell \u001b[0;32mIn[3], line 1\u001b[0m\n\u001b[0;32m----> 1\u001b[0m df\u001b[38;5;241m.\u001b[39mto_csv(\u001b[38;5;124m\"\u001b[39m\u001b[38;5;124mtrain.csv\u001b[39m\u001b[38;5;124m\"\u001b[39m, index\u001b[38;5;241m=\u001b[39m\u001b[38;5;28;01mFalse\u001b[39;00m)\n\u001b[1;32m      2\u001b[0m test\u001b[38;5;241m.\u001b[39mto_csv(\u001b[38;5;124m\"\u001b[39m\u001b[38;5;124mtest.csv\u001b[39m\u001b[38;5;124m\"\u001b[39m, index\u001b[38;5;241m=\u001b[39m\u001b[38;5;28;01mFalse\u001b[39;00m)\n",
            "\u001b[0;31mNameError\u001b[0m: name 'df' is not defined"
          ]
        }
      ],
      "source": [
        "df.to_csv(\"train.csv\", index=False)\n",
        "test.to_csv(\"test.csv\", index=False)"
      ]
    },
    {
      "cell_type": "code",
      "execution_count": 10,
      "id": "08dc6ae3-dea6-42c6-a9cd-5dbb4ed01dac",
      "metadata": {
        "colab": {
          "base_uri": "https://localhost:8080/",
          "height": 304
        },
        "id": "08dc6ae3-dea6-42c6-a9cd-5dbb4ed01dac",
        "outputId": "2c188dca-c0ce-47af-c4d1-d4c85385e501"
      },
      "outputs": [],
      "source": [
        "df =pd.read_csv(\"train.csv\")\n",
        "test =pd.read_csv(\"test.csv\")"
      ]
    },
    {
      "cell_type": "code",
      "execution_count": 3,
      "id": "7cc263f5-fee9-4697-8f2c-3f8854518ff1",
      "metadata": {
        "colab": {
          "base_uri": "https://localhost:8080/",
          "height": 458
        },
        "id": "7cc263f5-fee9-4697-8f2c-3f8854518ff1",
        "outputId": "544d7f44-6daf-44c8-d5c8-4944c382bd59"
      },
      "outputs": [
        {
          "data": {
            "text/plain": [
              "account_number                 0\n",
              "bad_flag                       0\n",
              "onus_attribute_1           20155\n",
              "transaction_attribute_1    20155\n",
              "transaction_attribute_2    20155\n",
              "                           ...  \n",
              "onus_attribute_44          68089\n",
              "onus_attribute_45          68089\n",
              "onus_attribute_46          68089\n",
              "onus_attribute_47          68089\n",
              "onus_attribute_48          68089\n",
              "Length: 1216, dtype: int64"
            ]
          },
          "execution_count": 3,
          "metadata": {},
          "output_type": "execute_result"
        }
      ],
      "source": [
        "df.isna().sum()"
      ]
    },
    {
      "cell_type": "code",
      "execution_count": 4,
      "id": "ed8d735a-47fb-462d-939c-a7262469ab48",
      "metadata": {
        "colab": {
          "base_uri": "https://localhost:8080/"
        },
        "id": "ed8d735a-47fb-462d-939c-a7262469ab48",
        "outputId": "40185423-9bf1-41a2-e588-7e2ae321b76d"
      },
      "outputs": [
        {
          "name": "stdout",
          "output_type": "stream",
          "text": [
            "Count: 1183\n"
          ]
        },
        {
          "data": {
            "text/plain": [
              "Index(['onus_attribute_1', 'transaction_attribute_1',\n",
              "       'transaction_attribute_2', 'transaction_attribute_3',\n",
              "       'transaction_attribute_4', 'transaction_attribute_5',\n",
              "       'transaction_attribute_6', 'transaction_attribute_7',\n",
              "       'transaction_attribute_8', 'transaction_attribute_9',\n",
              "       ...\n",
              "       'bureau_enquiry_47', 'bureau_enquiry_48', 'bureau_enquiry_49',\n",
              "       'bureau_enquiry_50', 'onus_attribute_43', 'onus_attribute_44',\n",
              "       'onus_attribute_45', 'onus_attribute_46', 'onus_attribute_47',\n",
              "       'onus_attribute_48'],\n",
              "      dtype='object', length=1183)"
            ]
          },
          "execution_count": 4,
          "metadata": {},
          "output_type": "execute_result"
        }
      ],
      "source": [
        "li=[]\n",
        "count =0\n",
        "for indx, i in enumerate(zip ( df.count(),df.isna().sum())):\n",
        "    #print(i[1]/i[0])\n",
        "    if i[0]==0:\n",
        "        continue\n",
        "    if (i[1]/df.shape[0])>0:\n",
        "        #print(df.columns[indx])\n",
        "        #print(f\"i val ={i}\")\n",
        "        #print(i[1]/41792)\n",
        "        count+=1\n",
        "        li.append(indx)\n",
        "print(f'Count: {count}')\n",
        "df.columns[li]"
      ]
    },
    {
      "cell_type": "code",
      "execution_count": null,
      "id": "5906d1ab-229f-476b-aff8-d163cbd38707",
      "metadata": {
        "id": "5906d1ab-229f-476b-aff8-d163cbd38707"
      },
      "outputs": [],
      "source": []
    },
    {
      "cell_type": "code",
      "execution_count": 11,
      "id": "92b972d1-b397-4740-9da4-47807b42db62",
      "metadata": {
        "id": "92b972d1-b397-4740-9da4-47807b42db62"
      },
      "outputs": [],
      "source": [
        "\n",
        "try:\n",
        "  corr_matrix = joblib.load('corr_matrix.joblib')\n",
        "except:\n",
        "  corr_matrix = df.corr()\n"
      ]
    },
    {
      "cell_type": "code",
      "execution_count": 2,
      "id": "H3OPsWkuxW6-",
      "metadata": {
        "colab": {
          "base_uri": "https://localhost:8080/"
        },
        "id": "H3OPsWkuxW6-",
        "outputId": "02957242-7a8b-4257-edd7-2e47014eb4b8"
      },
      "outputs": [
        {
          "name": "stdout",
          "output_type": "stream",
          "text": [
            "Requirement already satisfied: joblib in /home/haridev/miniconda3/envs/rapids-24.12/lib/python3.12/site-packages (1.4.2)\n"
          ]
        }
      ],
      "source": [
        "!pip install joblib"
      ]
    },
    {
      "cell_type": "code",
      "execution_count": 12,
      "id": "7gUkBMmT33pZ",
      "metadata": {
        "colab": {
          "base_uri": "https://localhost:8080/"
        },
        "id": "7gUkBMmT33pZ",
        "outputId": "eaba6a89-7ff1-45ba-b7c2-e34c70f88fba"
      },
      "outputs": [
        {
          "data": {
            "text/plain": [
              "['corr_matrix.joblib']"
            ]
          },
          "execution_count": 12,
          "metadata": {},
          "output_type": "execute_result"
        }
      ],
      "source": [
        "\n",
        "joblib.dump(corr_matrix, 'corr_matrix.joblib')"
      ]
    },
    {
      "cell_type": "code",
      "execution_count": 12,
      "id": "cc65799e-baac-4b9d-8a81-4f286fc6e1b3",
      "metadata": {
        "id": "cc65799e-baac-4b9d-8a81-4f286fc6e1b3"
      },
      "outputs": [],
      "source": [
        "corr_dic = {}\n",
        "if corr_matrix.empty:\n",
        "  corr_matrix = joblib.load('corr_matrix.joblib')\n",
        "\n",
        "high_corr_1 = corr_matrix[(corr_matrix > 0.7) | (corr_matrix < -0.7)]\n",
        "for i in range (high_corr_1.shape[0]):\n",
        "    for j in range (high_corr_1.shape[1]):\n",
        "        if high_corr_1.iloc[i,j] >=0.7 or high_corr_1.iloc[i,j] <=-0.7:\n",
        "            if i==j:\n",
        "                continue\n",
        "            if high_corr_1.columns[i] not in corr_dic.keys():\n",
        "                corr_dic[high_corr_1.columns[i]] = []\n",
        "            corr_dic[high_corr_1.columns[i]].append((high_corr_1.columns[j] , high_corr_1.iloc[i,j]))\n",
        "\n",
        "            #print((high_corr_1.columns[i] , high_corr_1.columns[j] , high_corr_1.iloc[i,j]))"
      ]
    },
    {
      "cell_type": "code",
      "execution_count": 13,
      "id": "fb93a15f-f82c-436b-a9f5-7b5996c511d9",
      "metadata": {
        "id": "fb93a15f-f82c-436b-a9f5-7b5996c511d9"
      },
      "outputs": [],
      "source": [
        "corr_dic\n",
        "high_corr_features =list(corr_dic.keys())"
      ]
    },
    {
      "cell_type": "code",
      "execution_count": 14,
      "id": "cc28723f-efd2-44af-a44e-51b34e5ce4d4",
      "metadata": {
        "id": "cc28723f-efd2-44af-a44e-51b34e5ce4d4"
      },
      "outputs": [],
      "source": [
        "not_corr_features = []\n",
        "for i in df.columns:\n",
        "    if i not in corr_dic.keys():\n",
        "        not_corr_features.append(i)\n"
      ]
    },
    {
      "cell_type": "code",
      "execution_count": 15,
      "id": "de9644f8-8f08-46df-8f7b-33af8ec97560",
      "metadata": {
        "colab": {
          "base_uri": "https://localhost:8080/"
        },
        "id": "de9644f8-8f08-46df-8f7b-33af8ec97560",
        "outputId": "47864c98-9fe1-4693-d60b-3b157176ee26"
      },
      "outputs": [
        {
          "data": {
            "text/plain": [
              "1098"
            ]
          },
          "execution_count": 15,
          "metadata": {},
          "output_type": "execute_result"
        }
      ],
      "source": [
        "len(high_corr_features )"
      ]
    },
    {
      "cell_type": "code",
      "execution_count": 16,
      "id": "a036fff2-096e-45ca-8f3d-7576d83dac9e",
      "metadata": {
        "colab": {
          "base_uri": "https://localhost:8080/"
        },
        "id": "a036fff2-096e-45ca-8f3d-7576d83dac9e",
        "outputId": "80ba664f-e5f8-4ee9-d447-1b0442beccad"
      },
      "outputs": [
        {
          "data": {
            "text/plain": [
              "118"
            ]
          },
          "execution_count": 16,
          "metadata": {},
          "output_type": "execute_result"
        }
      ],
      "source": [
        "len(not_corr_features)"
      ]
    },
    {
      "cell_type": "code",
      "execution_count": 17,
      "id": "3433d78e",
      "metadata": {
        "id": "3433d78e"
      },
      "outputs": [],
      "source": [
        "target= df['bad_flag']\n",
        "df.drop(columns=['bad_flag'], inplace=True)"
      ]
    },
    {
      "cell_type": "code",
      "execution_count": 20,
      "id": "fe4966d5",
      "metadata": {
        "colab": {
          "base_uri": "https://localhost:8080/",
          "height": 444
        },
        "id": "fe4966d5",
        "outputId": "6e791ac2-25c5-4a85-bf72-db2d795aee5b"
      },
      "outputs": [
        {
          "data": {
            "text/html": [
              "<div>\n",
              "<style scoped>\n",
              "    .dataframe tbody tr th:only-of-type {\n",
              "        vertical-align: middle;\n",
              "    }\n",
              "\n",
              "    .dataframe tbody tr th {\n",
              "        vertical-align: top;\n",
              "    }\n",
              "\n",
              "    .dataframe thead th {\n",
              "        text-align: right;\n",
              "    }\n",
              "</style>\n",
              "<table border=\"1\" class=\"dataframe\">\n",
              "  <thead>\n",
              "    <tr style=\"text-align: right;\">\n",
              "      <th></th>\n",
              "      <th>account_number</th>\n",
              "      <th>onus_attribute_1</th>\n",
              "      <th>transaction_attribute_1</th>\n",
              "      <th>transaction_attribute_2</th>\n",
              "      <th>transaction_attribute_3</th>\n",
              "      <th>transaction_attribute_4</th>\n",
              "      <th>transaction_attribute_5</th>\n",
              "      <th>transaction_attribute_6</th>\n",
              "      <th>transaction_attribute_7</th>\n",
              "      <th>transaction_attribute_8</th>\n",
              "      <th>...</th>\n",
              "      <th>bureau_enquiry_47</th>\n",
              "      <th>bureau_enquiry_48</th>\n",
              "      <th>bureau_enquiry_49</th>\n",
              "      <th>bureau_enquiry_50</th>\n",
              "      <th>onus_attribute_43</th>\n",
              "      <th>onus_attribute_44</th>\n",
              "      <th>onus_attribute_45</th>\n",
              "      <th>onus_attribute_46</th>\n",
              "      <th>onus_attribute_47</th>\n",
              "      <th>onus_attribute_48</th>\n",
              "    </tr>\n",
              "  </thead>\n",
              "  <tbody>\n",
              "    <tr>\n",
              "      <th>0</th>\n",
              "      <td>47642</td>\n",
              "      <td>163948.991597</td>\n",
              "      <td>0.0</td>\n",
              "      <td>0.0</td>\n",
              "      <td>0.0</td>\n",
              "      <td>0.0</td>\n",
              "      <td>0.0</td>\n",
              "      <td>2.877115</td>\n",
              "      <td>0.0</td>\n",
              "      <td>0.0</td>\n",
              "      <td>...</td>\n",
              "      <td>0.0</td>\n",
              "      <td>0.0</td>\n",
              "      <td>0.0</td>\n",
              "      <td>3.0</td>\n",
              "      <td>NaN</td>\n",
              "      <td>NaN</td>\n",
              "      <td>NaN</td>\n",
              "      <td>NaN</td>\n",
              "      <td>NaN</td>\n",
              "      <td>NaN</td>\n",
              "    </tr>\n",
              "    <tr>\n",
              "      <th>1</th>\n",
              "      <td>95032</td>\n",
              "      <td>108000.000000</td>\n",
              "      <td>0.0</td>\n",
              "      <td>0.0</td>\n",
              "      <td>0.0</td>\n",
              "      <td>0.0</td>\n",
              "      <td>0.0</td>\n",
              "      <td>0.000000</td>\n",
              "      <td>0.0</td>\n",
              "      <td>0.0</td>\n",
              "      <td>...</td>\n",
              "      <td>0.0</td>\n",
              "      <td>0.0</td>\n",
              "      <td>0.0</td>\n",
              "      <td>10.0</td>\n",
              "      <td>NaN</td>\n",
              "      <td>NaN</td>\n",
              "      <td>NaN</td>\n",
              "      <td>NaN</td>\n",
              "      <td>NaN</td>\n",
              "      <td>NaN</td>\n",
              "    </tr>\n",
              "    <tr>\n",
              "      <th>2</th>\n",
              "      <td>40510</td>\n",
              "      <td>61000.000000</td>\n",
              "      <td>0.0</td>\n",
              "      <td>0.0</td>\n",
              "      <td>0.0</td>\n",
              "      <td>0.0</td>\n",
              "      <td>0.0</td>\n",
              "      <td>0.000000</td>\n",
              "      <td>0.0</td>\n",
              "      <td>0.0</td>\n",
              "      <td>...</td>\n",
              "      <td>0.0</td>\n",
              "      <td>0.0</td>\n",
              "      <td>0.0</td>\n",
              "      <td>7.0</td>\n",
              "      <td>0.0</td>\n",
              "      <td>1.0</td>\n",
              "      <td>0.0</td>\n",
              "      <td>1.0</td>\n",
              "      <td>1.0</td>\n",
              "      <td>1.0</td>\n",
              "    </tr>\n",
              "    <tr>\n",
              "      <th>3</th>\n",
              "      <td>51692</td>\n",
              "      <td>469000.000000</td>\n",
              "      <td>0.0</td>\n",
              "      <td>0.0</td>\n",
              "      <td>0.0</td>\n",
              "      <td>0.0</td>\n",
              "      <td>0.0</td>\n",
              "      <td>0.000000</td>\n",
              "      <td>0.0</td>\n",
              "      <td>0.0</td>\n",
              "      <td>...</td>\n",
              "      <td>0.0</td>\n",
              "      <td>0.0</td>\n",
              "      <td>0.0</td>\n",
              "      <td>0.0</td>\n",
              "      <td>NaN</td>\n",
              "      <td>NaN</td>\n",
              "      <td>NaN</td>\n",
              "      <td>NaN</td>\n",
              "      <td>NaN</td>\n",
              "      <td>NaN</td>\n",
              "    </tr>\n",
              "    <tr>\n",
              "      <th>4</th>\n",
              "      <td>27459</td>\n",
              "      <td>152000.000000</td>\n",
              "      <td>0.0</td>\n",
              "      <td>0.0</td>\n",
              "      <td>0.0</td>\n",
              "      <td>0.0</td>\n",
              "      <td>0.0</td>\n",
              "      <td>0.000000</td>\n",
              "      <td>0.0</td>\n",
              "      <td>0.0</td>\n",
              "      <td>...</td>\n",
              "      <td>0.0</td>\n",
              "      <td>0.0</td>\n",
              "      <td>0.0</td>\n",
              "      <td>18.0</td>\n",
              "      <td>NaN</td>\n",
              "      <td>NaN</td>\n",
              "      <td>NaN</td>\n",
              "      <td>NaN</td>\n",
              "      <td>NaN</td>\n",
              "      <td>NaN</td>\n",
              "    </tr>\n",
              "    <tr>\n",
              "      <th>...</th>\n",
              "      <td>...</td>\n",
              "      <td>...</td>\n",
              "      <td>...</td>\n",
              "      <td>...</td>\n",
              "      <td>...</td>\n",
              "      <td>...</td>\n",
              "      <td>...</td>\n",
              "      <td>...</td>\n",
              "      <td>...</td>\n",
              "      <td>...</td>\n",
              "      <td>...</td>\n",
              "      <td>...</td>\n",
              "      <td>...</td>\n",
              "      <td>...</td>\n",
              "      <td>...</td>\n",
              "      <td>...</td>\n",
              "      <td>...</td>\n",
              "      <td>...</td>\n",
              "      <td>...</td>\n",
              "      <td>...</td>\n",
              "      <td>...</td>\n",
              "    </tr>\n",
              "    <tr>\n",
              "      <th>77439</th>\n",
              "      <td>6266</td>\n",
              "      <td>142000.000000</td>\n",
              "      <td>0.0</td>\n",
              "      <td>0.0</td>\n",
              "      <td>0.0</td>\n",
              "      <td>0.0</td>\n",
              "      <td>0.0</td>\n",
              "      <td>0.000000</td>\n",
              "      <td>0.0</td>\n",
              "      <td>0.0</td>\n",
              "      <td>...</td>\n",
              "      <td>0.0</td>\n",
              "      <td>0.0</td>\n",
              "      <td>0.0</td>\n",
              "      <td>7.0</td>\n",
              "      <td>2.0</td>\n",
              "      <td>2.0</td>\n",
              "      <td>0.0</td>\n",
              "      <td>0.0</td>\n",
              "      <td>2.0</td>\n",
              "      <td>0.0</td>\n",
              "    </tr>\n",
              "    <tr>\n",
              "      <th>77440</th>\n",
              "      <td>54887</td>\n",
              "      <td>103000.000000</td>\n",
              "      <td>0.0</td>\n",
              "      <td>0.0</td>\n",
              "      <td>0.0</td>\n",
              "      <td>0.0</td>\n",
              "      <td>0.0</td>\n",
              "      <td>0.000000</td>\n",
              "      <td>0.0</td>\n",
              "      <td>0.0</td>\n",
              "      <td>...</td>\n",
              "      <td>0.0</td>\n",
              "      <td>0.0</td>\n",
              "      <td>0.0</td>\n",
              "      <td>3.0</td>\n",
              "      <td>NaN</td>\n",
              "      <td>NaN</td>\n",
              "      <td>NaN</td>\n",
              "      <td>NaN</td>\n",
              "      <td>NaN</td>\n",
              "      <td>NaN</td>\n",
              "    </tr>\n",
              "    <tr>\n",
              "      <th>77441</th>\n",
              "      <td>76821</td>\n",
              "      <td>300000.000000</td>\n",
              "      <td>0.0</td>\n",
              "      <td>0.0</td>\n",
              "      <td>0.0</td>\n",
              "      <td>0.0</td>\n",
              "      <td>0.0</td>\n",
              "      <td>0.000000</td>\n",
              "      <td>0.0</td>\n",
              "      <td>0.0</td>\n",
              "      <td>...</td>\n",
              "      <td>0.0</td>\n",
              "      <td>0.0</td>\n",
              "      <td>0.0</td>\n",
              "      <td>6.0</td>\n",
              "      <td>NaN</td>\n",
              "      <td>NaN</td>\n",
              "      <td>NaN</td>\n",
              "      <td>NaN</td>\n",
              "      <td>NaN</td>\n",
              "      <td>NaN</td>\n",
              "    </tr>\n",
              "    <tr>\n",
              "      <th>77442</th>\n",
              "      <td>861</td>\n",
              "      <td>215000.000000</td>\n",
              "      <td>0.0</td>\n",
              "      <td>0.0</td>\n",
              "      <td>0.0</td>\n",
              "      <td>0.0</td>\n",
              "      <td>0.0</td>\n",
              "      <td>0.000000</td>\n",
              "      <td>0.0</td>\n",
              "      <td>0.0</td>\n",
              "      <td>...</td>\n",
              "      <td>0.0</td>\n",
              "      <td>0.0</td>\n",
              "      <td>0.0</td>\n",
              "      <td>11.0</td>\n",
              "      <td>NaN</td>\n",
              "      <td>NaN</td>\n",
              "      <td>NaN</td>\n",
              "      <td>NaN</td>\n",
              "      <td>NaN</td>\n",
              "      <td>NaN</td>\n",
              "    </tr>\n",
              "    <tr>\n",
              "      <th>77443</th>\n",
              "      <td>15796</td>\n",
              "      <td>94000.000000</td>\n",
              "      <td>0.0</td>\n",
              "      <td>0.0</td>\n",
              "      <td>0.0</td>\n",
              "      <td>0.0</td>\n",
              "      <td>0.0</td>\n",
              "      <td>0.000000</td>\n",
              "      <td>0.0</td>\n",
              "      <td>0.0</td>\n",
              "      <td>...</td>\n",
              "      <td>0.0</td>\n",
              "      <td>0.0</td>\n",
              "      <td>0.0</td>\n",
              "      <td>18.0</td>\n",
              "      <td>NaN</td>\n",
              "      <td>NaN</td>\n",
              "      <td>NaN</td>\n",
              "      <td>NaN</td>\n",
              "      <td>NaN</td>\n",
              "      <td>NaN</td>\n",
              "    </tr>\n",
              "  </tbody>\n",
              "</table>\n",
              "<p>77444 rows × 1215 columns</p>\n",
              "</div>"
            ],
            "text/plain": [
              "       account_number  onus_attribute_1  transaction_attribute_1  \\\n",
              "0               47642     163948.991597                      0.0   \n",
              "1               95032     108000.000000                      0.0   \n",
              "2               40510      61000.000000                      0.0   \n",
              "3               51692     469000.000000                      0.0   \n",
              "4               27459     152000.000000                      0.0   \n",
              "...               ...               ...                      ...   \n",
              "77439            6266     142000.000000                      0.0   \n",
              "77440           54887     103000.000000                      0.0   \n",
              "77441           76821     300000.000000                      0.0   \n",
              "77442             861     215000.000000                      0.0   \n",
              "77443           15796      94000.000000                      0.0   \n",
              "\n",
              "       transaction_attribute_2  transaction_attribute_3  \\\n",
              "0                          0.0                      0.0   \n",
              "1                          0.0                      0.0   \n",
              "2                          0.0                      0.0   \n",
              "3                          0.0                      0.0   \n",
              "4                          0.0                      0.0   \n",
              "...                        ...                      ...   \n",
              "77439                      0.0                      0.0   \n",
              "77440                      0.0                      0.0   \n",
              "77441                      0.0                      0.0   \n",
              "77442                      0.0                      0.0   \n",
              "77443                      0.0                      0.0   \n",
              "\n",
              "       transaction_attribute_4  transaction_attribute_5  \\\n",
              "0                          0.0                      0.0   \n",
              "1                          0.0                      0.0   \n",
              "2                          0.0                      0.0   \n",
              "3                          0.0                      0.0   \n",
              "4                          0.0                      0.0   \n",
              "...                        ...                      ...   \n",
              "77439                      0.0                      0.0   \n",
              "77440                      0.0                      0.0   \n",
              "77441                      0.0                      0.0   \n",
              "77442                      0.0                      0.0   \n",
              "77443                      0.0                      0.0   \n",
              "\n",
              "       transaction_attribute_6  transaction_attribute_7  \\\n",
              "0                     2.877115                      0.0   \n",
              "1                     0.000000                      0.0   \n",
              "2                     0.000000                      0.0   \n",
              "3                     0.000000                      0.0   \n",
              "4                     0.000000                      0.0   \n",
              "...                        ...                      ...   \n",
              "77439                 0.000000                      0.0   \n",
              "77440                 0.000000                      0.0   \n",
              "77441                 0.000000                      0.0   \n",
              "77442                 0.000000                      0.0   \n",
              "77443                 0.000000                      0.0   \n",
              "\n",
              "       transaction_attribute_8  ...  bureau_enquiry_47  bureau_enquiry_48  \\\n",
              "0                          0.0  ...                0.0                0.0   \n",
              "1                          0.0  ...                0.0                0.0   \n",
              "2                          0.0  ...                0.0                0.0   \n",
              "3                          0.0  ...                0.0                0.0   \n",
              "4                          0.0  ...                0.0                0.0   \n",
              "...                        ...  ...                ...                ...   \n",
              "77439                      0.0  ...                0.0                0.0   \n",
              "77440                      0.0  ...                0.0                0.0   \n",
              "77441                      0.0  ...                0.0                0.0   \n",
              "77442                      0.0  ...                0.0                0.0   \n",
              "77443                      0.0  ...                0.0                0.0   \n",
              "\n",
              "       bureau_enquiry_49  bureau_enquiry_50  onus_attribute_43  \\\n",
              "0                    0.0                3.0                NaN   \n",
              "1                    0.0               10.0                NaN   \n",
              "2                    0.0                7.0                0.0   \n",
              "3                    0.0                0.0                NaN   \n",
              "4                    0.0               18.0                NaN   \n",
              "...                  ...                ...                ...   \n",
              "77439                0.0                7.0                2.0   \n",
              "77440                0.0                3.0                NaN   \n",
              "77441                0.0                6.0                NaN   \n",
              "77442                0.0               11.0                NaN   \n",
              "77443                0.0               18.0                NaN   \n",
              "\n",
              "       onus_attribute_44  onus_attribute_45  onus_attribute_46  \\\n",
              "0                    NaN                NaN                NaN   \n",
              "1                    NaN                NaN                NaN   \n",
              "2                    1.0                0.0                1.0   \n",
              "3                    NaN                NaN                NaN   \n",
              "4                    NaN                NaN                NaN   \n",
              "...                  ...                ...                ...   \n",
              "77439                2.0                0.0                0.0   \n",
              "77440                NaN                NaN                NaN   \n",
              "77441                NaN                NaN                NaN   \n",
              "77442                NaN                NaN                NaN   \n",
              "77443                NaN                NaN                NaN   \n",
              "\n",
              "       onus_attribute_47  onus_attribute_48  \n",
              "0                    NaN                NaN  \n",
              "1                    NaN                NaN  \n",
              "2                    1.0                1.0  \n",
              "3                    NaN                NaN  \n",
              "4                    NaN                NaN  \n",
              "...                  ...                ...  \n",
              "77439                2.0                0.0  \n",
              "77440                NaN                NaN  \n",
              "77441                NaN                NaN  \n",
              "77442                NaN                NaN  \n",
              "77443                NaN                NaN  \n",
              "\n",
              "[77444 rows x 1215 columns]"
            ]
          },
          "execution_count": 20,
          "metadata": {},
          "output_type": "execute_result"
        }
      ],
      "source": [
        "df"
      ]
    },
    {
      "cell_type": "code",
      "execution_count": 21,
      "id": "07ec2ae1",
      "metadata": {},
      "outputs": [
        {
          "name": "stderr",
          "output_type": "stream",
          "text": [
            "Processing (Available Ram Memory: 0.07 GB, Used: 7.73 GB, Percent: 99.1%):  39%|███▊      | 423/1098 [00:59<01:38,  6.86it/s]"
          ]
        },
        {
          "ename": "",
          "evalue": "",
          "output_type": "error",
          "traceback": [
            "\u001b[1;31mThe Kernel crashed while executing code in the current cell or a previous cell. \n",
            "\u001b[1;31mPlease review the code in the cell(s) to identify a possible cause of the failure. \n",
            "\u001b[1;31mClick <a href='https://aka.ms/vscodeJupyterKernelCrash'>here</a> for more info. \n",
            "\u001b[1;31mView Jupyter <a href='command:jupyter.viewOutput'>log</a> for further details."
          ]
        }
      ],
      "source": [
        "import warnings\n",
        "import pandas as pd\n",
        "from sklearn.experimental import enable_iterative_imputer  # noqa\n",
        "from sklearn.impute import IterativeImputer\n",
        "from sklearn.ensemble import RandomForestRegressor\n",
        "from tqdm import tqdm\n",
        "import psutil\n",
        "\n",
        "# Suppress warnings for cleaner output\n",
        "warnings.filterwarnings(\"ignore\")\n",
        "#chunk_size = 30000\n",
        "imputed = set()\n",
        "corr_imputer_col = []\n",
        "\n",
        "# Function to get memory usage\n",
        "def get_memory_usage():\n",
        "    memory = psutil.virtual_memory()\n",
        "    return f\"Available Ram Memory: {memory.available / 1e9:.2f} GB, Used: {memory.used / 1e9:.2f} GB, Percent: {memory.percent}%\"\n",
        "\n",
        "\n",
        "with tqdm(total=len(corr_dic), desc=f\"Processing ({get_memory_usage()})\") as pbar:\n",
        "    for ket, val in corr_dic.items():\n",
        "    \n",
        "        pbar.set_description(f\"Processing ({get_memory_usage()})\")\n",
        "        \n",
        "        if ket in imputed:\n",
        "            continue        \n",
        "\n",
        "        corr_feat = [fet[0] for fet in val] + [ket]\n",
        "        rf_regressor = RandomForestRegressor(n_estimators=10, random_state=0, n_jobs=-1)\n",
        "        imputer = IterativeImputer(estimator=rf_regressor, max_iter=10, initial_strategy='median', random_state=0)\n",
        "\n",
        "        df[corr_feat] = imputer.fit_transform(df[corr_feat])\n",
        "        corr_imputer_col.append([corr_feat, imputer])\n",
        "\n",
        "        imputed.update(corr_feat)\n",
        "        pbar.update(len(corr_feat))\n"
      ]
    },
    {
      "cell_type": "code",
      "execution_count": 12,
      "id": "H73N1Zae0004",
      "metadata": {
        "id": "H73N1Zae0004"
      },
      "outputs": [
        {
          "name": "stdout",
          "output_type": "stream",
          "text": [
            "corr_imputer_col saved to joblib files.\n"
          ]
        }
      ],
      "source": [
        "print(f\"Length of 'corr_imputer_col': {len(corr_imputer_col)}\")\n",
        "print(f\"Length of 'imputed_features': {len(imputed)}\")\n",
        "print(f\"Length of 'high_corr_features': {len(high_corr_features)}\")\n",
        "print(f\"Length of 'not_corr_features': {len(not_corr_features)}\")\n",
        "\n",
        "imputer_data_to_save ={\n",
        "    'corr_imputer_col': corr_imputer_col,\n",
        "    'imputed_features': imputed,\n",
        "    'high_corr_features': high_corr_features,\n",
        "    'not_corr_features':not_corr_features\n",
        "    \n",
        "}\n",
        "\n",
        "joblib.dump(imputer_data_to_save, 'corr_imputed_data.joblib')\n",
        "\n",
        "print(\"corr_imputer_col saved to joblib files.\")"
      ]
    },
    {
      "cell_type": "code",
      "execution_count": null,
      "id": "cf826c6b-7335-4dc2-94e0-686815218ef3",
      "metadata": {
        "id": "cf826c6b-7335-4dc2-94e0-686815218ef3"
      },
      "outputs": [],
      "source": [
        "!pip install cuml-cu12 --extra-index-url=https://pypi.nvidia.com\n",
        "\n"
      ]
    },
    {
      "cell_type": "code",
      "execution_count": null,
      "id": "0741cbfb-7512-4758-8ba7-23745d116acb",
      "metadata": {
        "id": "0741cbfb-7512-4758-8ba7-23745d116acb"
      },
      "outputs": [],
      "source": [
        "!pip install NumPy==2.0"
      ]
    },
    {
      "cell_type": "code",
      "execution_count": null,
      "id": "8a803280-d986-4c33-a69e-55d698a274f2",
      "metadata": {
        "id": "8a803280-d986-4c33-a69e-55d698a274f2"
      },
      "outputs": [],
      "source": [
        "df.to_csv('df_corr_features_imputed.csv', index=False)"
      ]
    },
    {
      "cell_type": "code",
      "execution_count": 2,
      "id": "eb219a3b-0d7f-4d36-8dc7-fb165696adfc",
      "metadata": {
        "id": "eb219a3b-0d7f-4d36-8dc7-fb165696adfc"
      },
      "outputs": [
        {
          "data": {
            "text/plain": [
              "account_number             0\n",
              "onus_attribute_1           0\n",
              "transaction_attribute_1    0\n",
              "transaction_attribute_2    0\n",
              "transaction_attribute_3    0\n",
              "                          ..\n",
              "onus_attribute_44          0\n",
              "onus_attribute_45          0\n",
              "onus_attribute_46          0\n",
              "onus_attribute_47          0\n",
              "onus_attribute_48          0\n",
              "Length: 1215, dtype: int64"
            ]
          },
          "execution_count": 2,
          "metadata": {},
          "output_type": "execute_result"
        }
      ],
      "source": [
        "df = pd.read_csv('df_corr_features_imputed.csv')\n",
        "df.isna().sum()"
      ]
    },
    {
      "cell_type": "code",
      "execution_count": 3,
      "id": "642e006a-f5fe-4ccd-9192-168d2b2f7951",
      "metadata": {
        "id": "642e006a-f5fe-4ccd-9192-168d2b2f7951"
      },
      "outputs": [
        {
          "name": "stdout",
          "output_type": "stream",
          "text": [
            "transaction_attribute_38\n",
            "i val =(57289, 20155)\n",
            "0.26025256959867776\n",
            "transaction_attribute_83\n",
            "i val =(57289, 20155)\n",
            "0.26025256959867776\n",
            "transaction_attribute_119\n",
            "i val =(57123, 20321)\n",
            "0.26239605392283455\n",
            "transaction_attribute_128\n",
            "i val =(57123, 20321)\n",
            "0.26239605392283455\n",
            "transaction_attribute_132\n",
            "i val =(57123, 20321)\n",
            "0.26239605392283455\n",
            "transaction_attribute_145\n",
            "i val =(57123, 20321)\n",
            "0.26239605392283455\n",
            "transaction_attribute_148\n",
            "i val =(57123, 20321)\n",
            "0.26239605392283455\n",
            "transaction_attribute_152\n",
            "i val =(57123, 20321)\n",
            "0.26239605392283455\n",
            "transaction_attribute_191\n",
            "i val =(57289, 20155)\n",
            "0.26025256959867776\n",
            "transaction_attribute_264\n",
            "i val =(57289, 20155)\n",
            "0.26025256959867776\n",
            "transaction_attribute_359\n",
            "i val =(57227, 20217)\n",
            "0.2610531480811942\n",
            "transaction_attribute_404\n",
            "i val =(57227, 20217)\n",
            "0.2610531480811942\n",
            "transaction_attribute_414\n",
            "i val =(57227, 20217)\n",
            "0.2610531480811942\n",
            "transaction_attribute_424\n",
            "i val =(57227, 20217)\n",
            "0.2610531480811942\n",
            "transaction_attribute_489\n",
            "i val =(57227, 20217)\n",
            "0.2610531480811942\n",
            "transaction_attribute_504\n",
            "i val =(57227, 20217)\n",
            "0.2610531480811942\n",
            "transaction_attribute_514\n",
            "i val =(57227, 20217)\n",
            "0.2610531480811942\n",
            "transaction_attribute_524\n",
            "i val =(57227, 20217)\n",
            "0.2610531480811942\n",
            "transaction_attribute_525\n",
            "i val =(57289, 20155)\n",
            "0.26025256959867776\n",
            "transaction_attribute_539\n",
            "i val =(57227, 20217)\n",
            "0.2610531480811942\n",
            "transaction_attribute_549\n",
            "i val =(57205, 20239)\n",
            "0.2613372243169258\n",
            "transaction_attribute_554\n",
            "i val =(57205, 20239)\n",
            "0.2613372243169258\n",
            "transaction_attribute_570\n",
            "i val =(57205, 20239)\n",
            "0.2613372243169258\n",
            "transaction_attribute_572\n",
            "i val =(57205, 20239)\n",
            "0.2613372243169258\n",
            "transaction_attribute_573\n",
            "i val =(57205, 20239)\n",
            "0.2613372243169258\n",
            "transaction_attribute_575\n",
            "i val =(57205, 20239)\n",
            "0.2613372243169258\n",
            "transaction_attribute_582\n",
            "i val =(57205, 20239)\n",
            "0.2613372243169258\n",
            "transaction_attribute_621\n",
            "i val =(57289, 20155)\n",
            "0.26025256959867776\n",
            "bureau_4\n",
            "i val =(76479, 965)\n",
            "0.012460616703682661\n",
            "bureau_16\n",
            "i val =(76479, 965)\n",
            "0.012460616703682661\n",
            "bureau_26\n",
            "i val =(76479, 965)\n",
            "0.012460616703682661\n",
            "bureau_38\n",
            "i val =(76479, 965)\n",
            "0.012460616703682661\n",
            "bureau_40\n",
            "i val =(76479, 965)\n",
            "0.012460616703682661\n",
            "bureau_47\n",
            "i val =(76479, 965)\n",
            "0.012460616703682661\n",
            "bureau_56\n",
            "i val =(76479, 965)\n",
            "0.012460616703682661\n",
            "bureau_67\n",
            "i val =(76479, 965)\n",
            "0.012460616703682661\n",
            "bureau_68\n",
            "i val =(76479, 965)\n",
            "0.012460616703682661\n",
            "bureau_69\n",
            "i val =(76479, 965)\n",
            "0.012460616703682661\n",
            "bureau_70\n",
            "i val =(76479, 965)\n",
            "0.012460616703682661\n",
            "bureau_71\n",
            "i val =(76479, 965)\n",
            "0.012460616703682661\n",
            "bureau_73\n",
            "i val =(76479, 965)\n",
            "0.012460616703682661\n",
            "bureau_77\n",
            "i val =(76479, 965)\n",
            "0.012460616703682661\n",
            "bureau_79\n",
            "i val =(76479, 965)\n",
            "0.012460616703682661\n",
            "bureau_80\n",
            "i val =(76479, 965)\n",
            "0.012460616703682661\n",
            "bureau_81\n",
            "i val =(76479, 965)\n",
            "0.012460616703682661\n",
            "bureau_90\n",
            "i val =(76479, 965)\n",
            "0.012460616703682661\n",
            "bureau_91\n",
            "i val =(76479, 965)\n",
            "0.012460616703682661\n",
            "bureau_100\n",
            "i val =(76479, 965)\n",
            "0.012460616703682661\n",
            "bureau_110\n",
            "i val =(76479, 965)\n",
            "0.012460616703682661\n",
            "bureau_120\n",
            "i val =(76479, 965)\n",
            "0.012460616703682661\n",
            "bureau_128\n",
            "i val =(76479, 965)\n",
            "0.012460616703682661\n",
            "bureau_129\n",
            "i val =(76479, 965)\n",
            "0.012460616703682661\n",
            "bureau_130\n",
            "i val =(76479, 965)\n",
            "0.012460616703682661\n",
            "bureau_131\n",
            "i val =(76479, 965)\n",
            "0.012460616703682661\n",
            "bureau_132\n",
            "i val =(76479, 965)\n",
            "0.012460616703682661\n",
            "bureau_133\n",
            "i val =(76479, 965)\n",
            "0.012460616703682661\n",
            "bureau_135\n",
            "i val =(76479, 965)\n",
            "0.012460616703682661\n",
            "bureau_139\n",
            "i val =(76382, 1062)\n",
            "0.013713134652135736\n",
            "bureau_140\n",
            "i val =(76297, 1147)\n",
            "0.01481070192655338\n",
            "bureau_141\n",
            "i val =(76193, 1251)\n",
            "0.01615360776819379\n",
            "bureau_142\n",
            "i val =(76479, 965)\n",
            "0.012460616703682661\n",
            "bureau_143\n",
            "i val =(76349, 1095)\n",
            "0.014139249005733176\n",
            "bureau_144\n",
            "i val =(76414, 1030)\n",
            "0.013299932854707918\n",
            "bureau_145\n",
            "i val =(70624, 6820)\n",
            "0.08806363307680388\n",
            "bureau_146\n",
            "i val =(75499, 1945)\n",
            "0.025114921749909612\n",
            "bureau_152\n",
            "i val =(76479, 965)\n",
            "0.012460616703682661\n",
            "bureau_162\n",
            "i val =(76479, 965)\n",
            "0.012460616703682661\n",
            "bureau_172\n",
            "i val =(76479, 965)\n",
            "0.012460616703682661\n",
            "bureau_179\n",
            "i val =(76479, 965)\n",
            "0.012460616703682661\n",
            "bureau_181\n",
            "i val =(76479, 965)\n",
            "0.012460616703682661\n",
            "bureau_182\n",
            "i val =(76479, 965)\n",
            "0.012460616703682661\n",
            "bureau_184\n",
            "i val =(76479, 965)\n",
            "0.012460616703682661\n",
            "bureau_186\n",
            "i val =(76479, 965)\n",
            "0.012460616703682661\n",
            "bureau_192\n",
            "i val =(76479, 965)\n",
            "0.012460616703682661\n",
            "bureau_202\n",
            "i val =(76479, 965)\n",
            "0.012460616703682661\n",
            "bureau_212\n",
            "i val =(76479, 965)\n",
            "0.012460616703682661\n",
            "bureau_222\n",
            "i val =(76479, 965)\n",
            "0.012460616703682661\n",
            "bureau_232\n",
            "i val =(76479, 965)\n",
            "0.012460616703682661\n",
            "bureau_242\n",
            "i val =(76479, 965)\n",
            "0.012460616703682661\n",
            "bureau_252\n",
            "i val =(76479, 965)\n",
            "0.012460616703682661\n",
            "bureau_262\n",
            "i val =(76479, 965)\n",
            "0.012460616703682661\n",
            "bureau_272\n",
            "i val =(76479, 965)\n",
            "0.012460616703682661\n",
            "bureau_282\n",
            "i val =(76479, 965)\n",
            "0.012460616703682661\n",
            "bureau_292\n",
            "i val =(76479, 965)\n",
            "0.012460616703682661\n",
            "bureau_302\n",
            "i val =(76479, 965)\n",
            "0.012460616703682661\n",
            "bureau_312\n",
            "i val =(76479, 965)\n",
            "0.012460616703682661\n",
            "bureau_322\n",
            "i val =(76479, 965)\n",
            "0.012460616703682661\n",
            "bureau_332\n",
            "i val =(76479, 965)\n",
            "0.012460616703682661\n",
            "bureau_342\n",
            "i val =(76479, 965)\n",
            "0.012460616703682661\n",
            "bureau_352\n",
            "i val =(76479, 965)\n",
            "0.012460616703682661\n",
            "bureau_362\n",
            "i val =(76479, 965)\n",
            "0.012460616703682661\n",
            "bureau_372\n",
            "i val =(76479, 965)\n",
            "0.012460616703682661\n",
            "bureau_382\n",
            "i val =(76479, 965)\n",
            "0.012460616703682661\n",
            "bureau_392\n",
            "i val =(76479, 965)\n",
            "0.012460616703682661\n",
            "bureau_402\n",
            "i val =(76479, 965)\n",
            "0.012460616703682661\n",
            "bureau_409\n",
            "i val =(76479, 965)\n",
            "0.012460616703682661\n",
            "bureau_410\n",
            "i val =(76479, 965)\n",
            "0.012460616703682661\n",
            "bureau_412\n",
            "i val =(76479, 965)\n",
            "0.012460616703682661\n",
            "bureau_423\n",
            "i val =(76479, 965)\n",
            "0.012460616703682661\n",
            "bureau_424\n",
            "i val =(76479, 965)\n",
            "0.012460616703682661\n",
            "bureau_434\n",
            "i val =(44763, 32681)\n",
            "0.4219952481793296\n",
            "bureau_438\n",
            "i val =(11192, 66252)\n",
            "0.8554826713496204\n",
            "bureau_445\n",
            "i val =(35942, 41502)\n",
            "0.5358969061515417\n",
            "bureau_449\n",
            "i val =(4561, 72883)\n",
            "0.9411058313103662\n",
            "onus_attribute_8\n",
            "i val =(54880, 22564)\n",
            "0.2913589174112907\n",
            "bureau_enquiry_7\n",
            "i val =(75334, 2110)\n",
            "0.027245493517896804\n",
            "bureau_enquiry_8\n",
            "i val =(75334, 2110)\n",
            "0.027245493517896804\n",
            "bureau_enquiry_17\n",
            "i val =(75334, 2110)\n",
            "0.027245493517896804\n",
            "bureau_enquiry_27\n",
            "i val =(75334, 2110)\n",
            "0.027245493517896804\n",
            "bureau_enquiry_37\n",
            "i val =(75334, 2110)\n",
            "0.027245493517896804\n",
            "bureau_enquiry_47\n",
            "i val =(75334, 2110)\n",
            "0.027245493517896804\n",
            "Count: 111\n"
          ]
        },
        {
          "data": {
            "text/plain": [
              "Index(['transaction_attribute_38', 'transaction_attribute_83',\n",
              "       'transaction_attribute_119', 'transaction_attribute_128',\n",
              "       'transaction_attribute_132', 'transaction_attribute_145',\n",
              "       'transaction_attribute_148', 'transaction_attribute_152',\n",
              "       'transaction_attribute_191', 'transaction_attribute_264',\n",
              "       ...\n",
              "       'bureau_438', 'bureau_445', 'bureau_449', 'onus_attribute_8',\n",
              "       'bureau_enquiry_7', 'bureau_enquiry_8', 'bureau_enquiry_17',\n",
              "       'bureau_enquiry_27', 'bureau_enquiry_37', 'bureau_enquiry_47'],\n",
              "      dtype='object', length=111)"
            ]
          },
          "execution_count": 3,
          "metadata": {},
          "output_type": "execute_result"
        }
      ],
      "source": [
        "li=[]\n",
        "count =0\n",
        "for indx, i in enumerate(zip ( df.count(),df.isna().sum())):\n",
        "    #print(i[1]/i[0])\n",
        "    if i[0]==0:\n",
        "        continue\n",
        "    if (i[1]/df.shape[0])>0:\n",
        "        print(df.columns[indx])\n",
        "        print(f\"i val ={i}\")\n",
        "        print(i[1]/df.shape[0])\n",
        "        count+=1\n",
        "        li.append(indx)\n",
        "print(f'Count: {count}')\n",
        "df.columns[li]"
      ]
    },
    {
      "cell_type": "code",
      "execution_count": 8,
      "id": "eb2f5a48-6bf0-4863-b4f4-99b8d6abf4fc",
      "metadata": {
        "id": "eb2f5a48-6bf0-4863-b4f4-99b8d6abf4fc"
      },
      "outputs": [
        {
          "name": "stdout",
          "output_type": "stream",
          "text": [
            "dict_keys(['corr_imputer_col', 'imputed_features', 'high_corr_features', 'not_corr_features'])\n",
            "[]\n"
          ]
        },
        {
          "data": {
            "text/plain": [
              "1098"
            ]
          },
          "execution_count": 8,
          "metadata": {},
          "output_type": "execute_result"
        }
      ],
      "source": [
        "corr_imputer_data = joblib.load('corr_imputed_data.joblib')\n",
        "print(corr_imputer_data.keys())\n",
        "print(corr_imputer_data['corr_imputer_col'])\n",
        "len(corr_imputer_data['imputed_features'])"
      ]
    },
    {
      "cell_type": "code",
      "execution_count": null,
      "id": "78adeae5-3751-41a8-b4a4-00f438205633",
      "metadata": {
        "id": "78adeae5-3751-41a8-b4a4-00f438205633"
      },
      "outputs": [],
      "source": [
        "imputed"
      ]
    },
    {
      "cell_type": "code",
      "execution_count": null,
      "id": "5d56e79d-0d46-48f2-8a2a-602c506a5edb",
      "metadata": {
        "id": "5d56e79d-0d46-48f2-8a2a-602c506a5edb"
      },
      "outputs": [],
      "source": []
    },
    {
      "cell_type": "code",
      "execution_count": null,
      "id": "8442345b-937e-403a-8ae4-5f0669ec51e3",
      "metadata": {
        "colab": {
          "base_uri": "https://localhost:8080/",
          "height": 373
        },
        "id": "8442345b-937e-403a-8ae4-5f0669ec51e3",
        "outputId": "2e4bafd3-f034-489a-e537-5b6916458ee9"
      },
      "outputs": [
        {
          "name": "stderr",
          "output_type": "stream",
          "text": [
            "Processing:  45%|████▍     | 492/1098 [08:41<1:51:13, 11.01s/it]"
          ]
        }
      ],
      "source": [
        "import warnings\n",
        "warnings.filterwarnings(\"ignore\")\n",
        "from sklearn.experimental import enable_iterative_imputer\n",
        "from sklearn.impute import IterativeImputer\n",
        "from sklearn.ensemble import RandomForestRegressor\n",
        "from tqdm import tqdm\n",
        "\n",
        "imputed = set()\n",
        "corr_imputer_col=[]\n",
        "\n",
        "for ket, val in tqdm(corr_dic.items(), desc=\"Processing\", total=len(corr_dic)):\n",
        "    corr_feat = []\n",
        "    if ket in imputed:\n",
        "        continue\n",
        "    for fet in val:\n",
        "        corr_feat.append(fet[0])\n",
        "    corr_feat.append(ket)\n",
        "\n",
        "    rf_regressor = RandomForestRegressor(n_estimators=10, random_state=0)\n",
        "    imputer = IterativeImputer(estimator=rf_regressor, max_iter=10, initial_strategy='median', random_state=0)\n",
        "\n",
        "    df[corr_feat] = imputer.fit_transform(df[corr_feat])\n",
        "    corr_imputer_col.append([corr_feat, imputer])\n",
        "    imputed.update(corr_feat)\n",
        "\n",
        "print(\"Imputation completed\")\n"
      ]
    }
  ],
  "metadata": {
    "accelerator": "TPU",
    "colab": {
      "gpuType": "V28",
      "provenance": []
    },
    "kernelspec": {
      "display_name": "rapids-24.12",
      "language": "python",
      "name": "python3"
    },
    "language_info": {
      "codemirror_mode": {
        "name": "ipython",
        "version": 3
      },
      "file_extension": ".py",
      "mimetype": "text/x-python",
      "name": "python",
      "nbconvert_exporter": "python",
      "pygments_lexer": "ipython3",
      "version": "3.12.8"
    }
  },
  "nbformat": 4,
  "nbformat_minor": 5
}
